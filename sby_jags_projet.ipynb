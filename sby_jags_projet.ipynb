{
 "cells": [
  {
   "attachments": {},
   "cell_type": "markdown",
   "metadata": {},
   "source": [
    "# Time Series Final Project\n",
    "\n",
    "This report is based on the excel spreadsheet named \"data_exam.xlsx\". \n",
    "\n",
    "*Authors: Sarra Ben Yahia & José Ángel García Sánchez*"
   ]
  },
  {
   "attachments": {},
   "cell_type": "markdown",
   "metadata": {},
   "source": [
    "###### 1. Explain the concept behind each column. What are these time series meant to represent? Transform these time series so that they are comparable in scale and order. "
   ]
  },
  {
   "cell_type": "code",
   "execution_count": 30,
   "metadata": {},
   "outputs": [
    {
     "name": "stdout",
     "output_type": "stream",
     "text": [
      "                 VIX  Parkinson  Squared returns\n",
      "Unnamed: 0                                      \n",
      "2000-01-04  0.786088   2.174156         1.363266\n",
      "2000-01-05  0.716917  -0.268696         0.527071\n",
      "2000-01-06  0.638524  -0.192807         0.067398\n",
      "2000-01-07  0.176234   2.470927         1.689898\n",
      "2000-01-10  0.175081  -0.081549        -0.101029\n"
     ]
    }
   ],
   "source": [
    "import numpy as np\n",
    "import pandas as pd\n",
    "from sklearn.preprocessing import StandardScaler, MinMaxScaler\n",
    "\n",
    "df = pd.read_excel(\"./data_exam.xlsx\")\n",
    "date_list=df.iloc[:,0]\n",
    "\n",
    "datesFormated=pd.to_datetime(date_list, format=\"%d.%m.%Y\")\n",
    "volatility_series=df.iloc[:,1:4]\n",
    "\n",
    "volatility_changes = volatility_series\n",
    "volatility_changes.index = datesFormated\n",
    "\n",
    "# create a StandardScaler object\n",
    "scaler = StandardScaler()\n",
    "\n",
    "# fit the scaler to the data and transform each column\n",
    "volatility_changes_scaled = pd.DataFrame(scaler.fit_transform(volatility_changes), columns=volatility_changes.columns)\n",
    "\n",
    "# set the index of the scaled dataframe to match the original\n",
    "volatility_changes_scaled.index = volatility_changes.index\n",
    "\n",
    "# print the first five rows of the scaled dataframe\n",
    "print(volatility_changes_scaled.head())"
   ]
  },
  {
   "attachments": {},
   "cell_type": "markdown",
   "metadata": {},
   "source": [
    "### **Description of the columns**\n",
    "\n",
    "----\n",
    "\n",
    "**Column B:**   \n",
    "The VIX is a measure of market volatility often referred to as the \"fear index.\" The VIX level represents the level of expected volatility in the S&P 500 index over the next 30 days. The VIX level is calculated based on the prices of options contracts on the S&P 500 index.\n",
    "\n",
    "A higher VIX level indicates greater expected volatility, while a lower VIX level suggests a lower level of expected volatility. Generally, when the stock market experiences significant price fluctuations, the VIX level tends to increase, as investors become more uncertain and demand higher premiums for options contracts to hedge their positions. Conversely, when the market is relatively stable, the VIX level tends to be lower.\n",
    "\n",
    "----\n",
    "\n",
    "**Column C:**\n",
    "The parkison estimates refers to the parkinson law formula (1980) used to estimate the volatility of stock prices.\n",
    "\n",
    "Parkinson's law calculates the daily volatility of a stock by using the high and low prices of the day. The formula is as follows:\n",
    "\n",
    "Parkinson's volatility estimate = (High price - Low price) / sqrt(2 * closing price)\n",
    "\n",
    "Where:\n",
    "\n",
    "- High price: the highest price of the stock during the day\n",
    "- Low price: the lowest price of the stock during the day\n",
    "- Closing price: the closing price of the stock for the day\n",
    "\n",
    "The result of the formula represents the estimated standard deviation of the stock's daily returns. Parkinson's law is considered one of the simplest ways to estimate volatility, although it has some limitations and may not always accurately reflect the true volatility of a stock.\n",
    "\n",
    "----\n",
    "\n",
    "**Columns D:**\n",
    "Squared returns are a measure of the volatility of an asset, such as a stock or a portfolio of stocks. They are obtained by squaring the daily returns of the asset.  \n",
    "\n",
    "Daily returns are the percentage change in the price of an asset from one day to the next. Squaring the daily returns helps to emphasize large changes in the asset's price, as large returns are amplified when they are squared. The resulting squared returns can be summed over a period of time to give an estimate of the asset's volatility over that period.  \n",
    "\n",
    "Squared returns are often used in financial modeling and risk management to estimate the volatility of an asset or portfolio of assets, which is an important measure of risk. Higher volatility means greater uncertainty and potential for larger price swings, while lower volatility suggests a more stable asset with smaller price fluctuations.  \n",
    "\n",
    "\n",
    "---"
   ]
  },
  {
   "cell_type": "markdown",
   "metadata": {},
   "source": [
    "###### Q2"
   ]
  },
  {
   "cell_type": "code",
   "execution_count": 31,
   "metadata": {},
   "outputs": [
    {
     "name": "stderr",
     "output_type": "stream",
     "text": [
      "/Users/pepegarcia/opt/anaconda3/lib/python3.9/site-packages/statsmodels/graphics/tsaplots.py:348: FutureWarning: The default method 'yw' can produce PACF values outside of the [-1,1] interval. After 0.13, the default will change tounadjusted Yule-Walker ('ywm'). You can use this method now by setting method='ywm'.\n",
      "  warnings.warn(\n"
     ]
    },
    {
     "ename": "NotImplementedError",
     "evalue": "AR has been removed from statsmodels and replaced with statsmodels.tsa.ar_model.AutoReg.",
     "output_type": "error",
     "traceback": [
      "\u001b[0;31m---------------------------------------------------------------------------\u001b[0m",
      "\u001b[0;31mNotImplementedError\u001b[0m                       Traceback (most recent call last)",
      "\u001b[1;32m/Users/pepegarcia/python/times_series/sby_jags_projet.ipynb Cell 6\u001b[0m in \u001b[0;36m<cell line: 6>\u001b[0;34m()\u001b[0m\n\u001b[1;32m     <a href='vscode-notebook-cell:/Users/pepegarcia/python/times_series/sby_jags_projet.ipynb#X24sZmlsZQ%3D%3D?line=10'>11</a>\u001b[0m \u001b[39m# estimate the AR model with the determined order\u001b[39;00m\n\u001b[1;32m     <a href='vscode-notebook-cell:/Users/pepegarcia/python/times_series/sby_jags_projet.ipynb#X24sZmlsZQ%3D%3D?line=11'>12</a>\u001b[0m ar_order \u001b[39m=\u001b[39m \u001b[39mint\u001b[39m(\u001b[39minput\u001b[39m(\u001b[39mf\u001b[39m\u001b[39m\"\u001b[39m\u001b[39mEnter the AR order for \u001b[39m\u001b[39m{\u001b[39;00mcol\u001b[39m}\u001b[39;00m\u001b[39m: \u001b[39m\u001b[39m\"\u001b[39m))\n\u001b[0;32m---> <a href='vscode-notebook-cell:/Users/pepegarcia/python/times_series/sby_jags_projet.ipynb#X24sZmlsZQ%3D%3D?line=12'>13</a>\u001b[0m model \u001b[39m=\u001b[39m AR(ts)\n\u001b[1;32m     <a href='vscode-notebook-cell:/Users/pepegarcia/python/times_series/sby_jags_projet.ipynb#X24sZmlsZQ%3D%3D?line=13'>14</a>\u001b[0m results \u001b[39m=\u001b[39m model\u001b[39m.\u001b[39mfit(ar_order)\n\u001b[1;32m     <a href='vscode-notebook-cell:/Users/pepegarcia/python/times_series/sby_jags_projet.ipynb#X24sZmlsZQ%3D%3D?line=14'>15</a>\u001b[0m \u001b[39m# print the estimated coefficients\u001b[39;00m\n",
      "File \u001b[0;32m~/opt/anaconda3/lib/python3.9/site-packages/statsmodels/tsa/ar_model.py:822\u001b[0m, in \u001b[0;36mAR.__init__\u001b[0;34m(self, *args, **kwargs)\u001b[0m\n\u001b[1;32m    821\u001b[0m \u001b[39mdef\u001b[39;00m \u001b[39m__init__\u001b[39m(\u001b[39mself\u001b[39m, \u001b[39m*\u001b[39margs, \u001b[39m*\u001b[39m\u001b[39m*\u001b[39mkwargs):\n\u001b[0;32m--> 822\u001b[0m     \u001b[39mraise\u001b[39;00m \u001b[39mNotImplementedError\u001b[39;00m(\n\u001b[1;32m    823\u001b[0m         \u001b[39m\"\u001b[39m\u001b[39mAR has been removed from statsmodels and replaced with \u001b[39m\u001b[39m\"\u001b[39m\n\u001b[1;32m    824\u001b[0m         \u001b[39m\"\u001b[39m\u001b[39mstatsmodels.tsa.ar_model.AutoReg.\u001b[39m\u001b[39m\"\u001b[39m\n\u001b[1;32m    825\u001b[0m     )\n",
      "\u001b[0;31mNotImplementedError\u001b[0m: AR has been removed from statsmodels and replaced with statsmodels.tsa.ar_model.AutoReg."
     ]
    },
    {
     "data": {
      "image/png": "[encoded data removed]",
      "text/plain": [
       "<Figure size 432x288 with 1 Axes>"
      ]
     },
     "metadata": {
      "needs_background": "light"
     },
     "output_type": "display_data"
    }
   ],
   "source": [
    "from statsmodels.tsa.ar_model import AR\n",
    "from statsmodels.graphics.tsaplots import plot_pacf\n",
    "\n",
    "\n",
    "# loop over each column in the dataframe\n",
    "for col in volatility_changes_scaled.columns:\n",
    "    # extract the time series and convert to a numpy array\n",
    "    ts = volatility_changes_scaled[col].values\n",
    "    # determine the order of the AR process using the PACF plot\n",
    "    plot_pacf(ts, lags=20)\n",
    "    # estimate the AR model with the determined order\n",
    "    ar_order = int(input(f\"Enter the AR order for {col}: \"))\n",
    "    model = AR(ts)\n",
    "    results = model.fit(ar_order)\n",
    "    # print the estimated coefficients\n",
    "    print(f\"\\nEstimates for {col} (AR{ar_order}):\")\n",
    "    print(results.params)"
   ]
  },
  {
   "cell_type": "code",
   "execution_count": null,
   "metadata": {},
   "outputs": [],
   "source": []
  }
 ],
 "metadata": {
  "kernelspec": {
   "display_name": "base",
   "language": "python",
   "name": "python3"
  },
  "language_info": {
   "codemirror_mode": {
    "name": "ipython",
    "version": 3
   },
   "file_extension": ".py",
   "mimetype": "text/x-python",
   "name": "python",
   "nbconvert_exporter": "python",
   "pygments_lexer": "ipython3",
   "version": "3.9.12"
  },
  "orig_nbformat": 4,
  "vscode": {
   "interpreter": {
    "hash": "1214d3ff7cb32671bc4f4b5c11a9fa4d9fab7aeb0158b43ff0be96645ba3e7af"
   }
  }
 },
 "nbformat": 4,
 "nbformat_minor": 2
}
