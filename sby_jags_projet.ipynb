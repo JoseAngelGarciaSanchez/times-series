{
 "cells": [
  {
   "attachments": {},
   "cell_type": "markdown",
   "metadata": {},
   "source": [
    "# Time Series Final Project\n",
    "\n",
    "This report is based on the excel spreadsheet named \"data_exam.xlsx\". \n",
    "\n",
    "*Authors: Sarra Ben Yahia & José Ángel García Sánchez*"
   ]
  },
  {
   "attachments": {},
   "cell_type": "markdown",
   "metadata": {},
   "source": [
    "### 1. Explain the concept behind each column. What are these time series meant to represent? Transform these time series so that they are comparable in scale and order. "
   ]
  },
  {
   "attachments": {},
   "cell_type": "markdown",
   "metadata": {},
   "source": [
    "#### Introduction\n",
    "In this report, we will analyze the joint relationship between three time series: parkinson and VIX estimators with squared returns. To better understand this relationship, we will convert all series to annual variances, as variances are closely linked to squared returns. In contrast, volatilities have a natural relationship with absolute returns.\n",
    "\n",
    "#### Why Use Parkinson and VIX Estimators to Explain Squared Returns?\n",
    "The estimated historical volatility $\\sigma$ of squared returns only captures linear relationships and assumes all events are equally weighted. In financial markets, volatility estimates based on a small dataset might lead to noisy measurements of the estimator due to sampling errors. Conversely, a large dataset uses information that is no longer relevant to the present state of the market. Therefore, using historical volatility as an exact number may not represent the actual value.  \n",
    "\n",
    "To address this problem, alternative volatility estimators that use all data points other than closing prices, such as Close-to-Close, Garman and Klass (GK), Parkinson’s, Rogers and Satchell (RS), and Garman and Klass–Yang and Zhang (GK-YZ), can be used. In this report, we will focus on Parkinson and VIX estimators, they are widely used and provide a good balance between accuracy and computational efficiency. \n",
    "\n",
    "The Parkinson estimator is based on the high and low prices, while the VIX estimator is based on the implied volatilities of S&P 500 index options. By comparing their performance in explaining squared returns, we can gain insights into the joint relationship between these time series.  \n",
    "\n",
    "#### Parkinson estimator\n",
    "The Parkinson estimator is widely used to transform squared returns from a daily to an intraday frequency. As we learned in class, having intraday series can be extremely expensive, often costing up to 10k€ per series. Thus, a good approach is to use the Parkinson estimator to approximate intraday returns and obtain a well-explained variability of returns.  \n",
    "\n",
    "The Parkinson estimator is a simplified version of the Garman Klass method, which includes a time component between the opening and closing prices. However, the Parkinson estimator is known for its high volatility, which can make it difficult to distinguish the signal from the noise. To overcome this issue, it is necessary to filter out the white noise from the information provided by the estimator. The Parkinson estimator is based on the high and low prices of a financial instrument and can be expressed as follows:  \n",
    "\n",
    "$$\\sigma_{Parkinson} = \\sqrt{\\frac{1}{4n\\ln2}\\sum_{k=1}^n\\left(\\log\\left(\\frac{H_{k}}{L_{k}}\\right)\\right)^2}$$\n",
    "\n",
    "#### Extension of parkinson estimator\n",
    "Even if the Parkinson estimate of variance is unbiased for continuous prices, prices are only sampled discretely. Then another approach or extension to using the Parkinson estimator could be to consider more accurate volatility estimators. According to [volatilites mesures article](https://www.mdpi.com/1099-4300/24/10/1410), while the Parkinson estimator is five times more efficient than the close-to-close estimator, the Garman Klass method is 7.4 times more efficient than close-to-close. Garman-Klass estimator (GK) is given by:  \n",
    "\n",
    "$$\\sigma_{GK} = \\sqrt{\\frac{1}{n} \\sum_{i=1}^n \\left(\\frac{1}{2}\\left(\\frac{\\Delta H_i}{C_i} - \\frac{\\Delta L_i}{C_i}\\right)^2 - (2\\ln2 - 1)\\left(\\frac{\\Delta C_i}{C_i}\\right)^2\\right)}$$\n",
    "\n",
    "Moreover, an even more recent and improved version of the Garman Klass method is the Yang and Zhang developed version of GK (YZ-GK estimator), which provides even better accuracy and efficiency. The estimator is given by:  \n",
    "\n",
    "$$\\sigma_{YZ-GK} = \\sqrt{\\frac{1}{n} \\sum_{i=1}^n \\left(\\alpha\\left(\\frac{\\Delta H_i}{C_i}\\right)^2 + (1-\\alpha)\\left(\\frac{\\Delta C_i}{C_i}\\right)^2 - 2\\beta\\left(\\frac{\\Delta H_i}{C_i}\\right)\\left(\\frac{\\Delta C_i}{C_i}\\right)\\right)}$$\n",
    "\n",
    "#### Parkison transformation\n",
    "To annualize the Parkinson variance, we can multiply the daily variance by 252, since there are 252 trading days in a year. This transformation is given by the following formula:\n",
    "\n",
    "$$\\sigma_{Annualised\\ Parkinson}^2 = \\sigma_{Daily\\ Parkinson}^2 * 252$$\n",
    "\n",
    "#### VIX\n",
    "The VIX (CBOE Volatility Index) is a measure of the expected 30-day volatility of the U.S. stock market, derived from the prices of S&P 500 index options. It represents the market's expectation of near-term volatility. In our case VIX is expressed as percentage points.  \n",
    "  \n",
    "#### VIX transformations  \n",
    "To yield volatility from percentage value we do:\n",
    "\n",
    "$$\\sigma_{VIX} = \\frac{VIX\\ Value}{100}$$\n",
    "\n",
    "then to have annualised variance we do:\n",
    "$$\\sigma_{Annualised\\ VIX}^2 = \\sigma_{VIX}*\\left(\\sqrt{\\frac{252}{30}}\\right)^2$$\n",
    "\n"
   ]
  },
  {
   "cell_type": "code",
   "execution_count": 31,
   "metadata": {},
   "outputs": [
    {
     "name": "stdout",
     "output_type": "stream",
     "text": [
      "              VIX  Parkinson  Squared returns\n",
      "2000-01-04  27.01   0.001406         0.000612\n",
      "2000-01-05  26.41   0.000002         0.000326\n",
      "2000-01-06  25.73   0.000045         0.000169\n",
      "2000-01-07  21.72   0.001577         0.000723\n",
      "2000-01-10  21.71   0.000109         0.000111\n",
      "...           ...        ...              ...\n",
      "2023-02-08  19.63   0.000117         0.000070\n",
      "2023-02-09  20.71   0.000088         0.000179\n",
      "2023-02-10  20.53   0.000004         0.000041\n",
      "2023-02-13  20.34   0.000134         0.000110\n",
      "2023-02-14  18.94   0.000019         0.000110\n",
      "\n",
      "[5822 rows x 3 columns]\n"
     ]
    }
   ],
   "source": [
    "import numpy as np\n",
    "import pandas as pd\n",
    "\n",
    "df = pd.read_excel(\"./data_exam.xlsx\", index_col=0)\n",
    "print(df)"
   ]
  },
  {
   "cell_type": "code",
   "execution_count": 32,
   "metadata": {},
   "outputs": [],
   "source": [
    "df['VIX_annualised_variance'] = ((df['VIX'] / 100) * np.sqrt(252/30))**2\n",
    "df['parkinson_annualised_variance'] = df['Parkinson'] * 252"
   ]
  },
  {
   "cell_type": "code",
   "execution_count": 37,
   "metadata": {},
   "outputs": [
    {
     "data": {
      "text/html": [
       "<div>\n",
       "<style scoped>\n",
       "    .dataframe tbody tr th:only-of-type {\n",
       "        vertical-align: middle;\n",
       "    }\n",
       "\n",
       "    .dataframe tbody tr th {\n",
       "        vertical-align: top;\n",
       "    }\n",
       "\n",
       "    .dataframe thead th {\n",
       "        text-align: right;\n",
       "    }\n",
       "</style>\n",
       "<table border=\"1\" class=\"dataframe\">\n",
       "  <thead>\n",
       "    <tr style=\"text-align: right;\">\n",
       "      <th></th>\n",
       "      <th>VIX</th>\n",
       "      <th>Parkinson</th>\n",
       "      <th>Squared returns</th>\n",
       "      <th>VIX_annualised_variance</th>\n",
       "      <th>parkinson_annualised_variance</th>\n",
       "    </tr>\n",
       "  </thead>\n",
       "  <tbody>\n",
       "    <tr>\n",
       "      <th>count</th>\n",
       "      <td>5822.000000</td>\n",
       "      <td>5822.000000</td>\n",
       "      <td>5822.000000</td>\n",
       "      <td>5822.000000</td>\n",
       "      <td>5822.000000</td>\n",
       "    </tr>\n",
       "    <tr>\n",
       "      <th>mean</th>\n",
       "      <td>20.191311</td>\n",
       "      <td>0.000156</td>\n",
       "      <td>0.000145</td>\n",
       "      <td>0.405662</td>\n",
       "      <td>0.039319</td>\n",
       "    </tr>\n",
       "    <tr>\n",
       "      <th>std</th>\n",
       "      <td>8.674953</td>\n",
       "      <td>0.000575</td>\n",
       "      <td>0.000342</td>\n",
       "      <td>0.451209</td>\n",
       "      <td>0.144904</td>\n",
       "    </tr>\n",
       "    <tr>\n",
       "      <th>min</th>\n",
       "      <td>9.140000</td>\n",
       "      <td>0.000000</td>\n",
       "      <td>0.000001</td>\n",
       "      <td>0.070173</td>\n",
       "      <td>0.000000</td>\n",
       "    </tr>\n",
       "    <tr>\n",
       "      <th>25%</th>\n",
       "      <td>13.970000</td>\n",
       "      <td>0.000005</td>\n",
       "      <td>0.000026</td>\n",
       "      <td>0.163935</td>\n",
       "      <td>0.001226</td>\n",
       "    </tr>\n",
       "    <tr>\n",
       "      <th>50%</th>\n",
       "      <td>18.230000</td>\n",
       "      <td>0.000030</td>\n",
       "      <td>0.000061</td>\n",
       "      <td>0.279160</td>\n",
       "      <td>0.007538</td>\n",
       "    </tr>\n",
       "    <tr>\n",
       "      <th>75%</th>\n",
       "      <td>23.930000</td>\n",
       "      <td>0.000120</td>\n",
       "      <td>0.000138</td>\n",
       "      <td>0.481022</td>\n",
       "      <td>0.030309</td>\n",
       "    </tr>\n",
       "    <tr>\n",
       "      <th>max</th>\n",
       "      <td>82.690000</td>\n",
       "      <td>0.019919</td>\n",
       "      <td>0.006161</td>\n",
       "      <td>5.743614</td>\n",
       "      <td>5.019508</td>\n",
       "    </tr>\n",
       "  </tbody>\n",
       "</table>\n",
       "</div>"
      ],
      "text/plain": [
       "               VIX    Parkinson  Squared returns  VIX_annualised_variance  \\\n",
       "count  5822.000000  5822.000000      5822.000000              5822.000000   \n",
       "mean     20.191311     0.000156         0.000145                 0.405662   \n",
       "std       8.674953     0.000575         0.000342                 0.451209   \n",
       "min       9.140000     0.000000         0.000001                 0.070173   \n",
       "25%      13.970000     0.000005         0.000026                 0.163935   \n",
       "50%      18.230000     0.000030         0.000061                 0.279160   \n",
       "75%      23.930000     0.000120         0.000138                 0.481022   \n",
       "max      82.690000     0.019919         0.006161                 5.743614   \n",
       "\n",
       "       parkinson_annualised_variance  \n",
       "count                    5822.000000  \n",
       "mean                        0.039319  \n",
       "std                         0.144904  \n",
       "min                         0.000000  \n",
       "25%                         0.001226  \n",
       "50%                         0.007538  \n",
       "75%                         0.030309  \n",
       "max                         5.019508  "
      ]
     },
     "execution_count": 37,
     "metadata": {},
     "output_type": "execute_result"
    }
   ],
   "source": [
    "df.describe()"
   ]
  },
  {
   "cell_type": "code",
   "execution_count": 35,
   "metadata": {},
   "outputs": [
    {
     "data": {
      "text/plain": [
       "<AxesSubplot:>"
      ]
     },
     "execution_count": 35,
     "metadata": {},
     "output_type": "execute_result"
    },
    {
     "data": {
      "image/png": "[encoded data removed]",
      "text/plain": [
       "<Figure size 432x288 with 1 Axes>"
      ]
     },
     "metadata": {
      "needs_background": "light"
     },
     "output_type": "display_data"
    }
   ],
   "source": [
    "# before standard scaling\n",
    "df[['Squared returns', 'parkinson_annualised_variance', 'VIX_annualised_variance']].plot()"
   ]
  },
  {
   "attachments": {},
   "cell_type": "markdown",
   "metadata": {},
   "source": [
    "### 2. Estimate and AR model on each of these time series. Determine the order of the AR process and show the estimates. What can you conclude from these estimations?"
   ]
  },
  {
   "cell_type": "code",
   "execution_count": 44,
   "metadata": {},
   "outputs": [
    {
     "data": {
      "text/plain": [
       "5"
      ]
     },
     "execution_count": 44,
     "metadata": {},
     "output_type": "execute_result"
    }
   ],
   "source": [
    "df.shape[1]"
   ]
  },
  {
   "cell_type": "code",
   "execution_count": 46,
   "metadata": {},
   "outputs": [
    {
     "name": "stdout",
     "output_type": "stream",
     "text": [
      "2000-01-04    27.01\n",
      "2000-01-05    26.41\n",
      "2000-01-06    25.73\n",
      "2000-01-07    21.72\n",
      "2000-01-10    21.71\n",
      "              ...  \n",
      "2023-02-08    19.63\n",
      "2023-02-09    20.71\n",
      "2023-02-10    20.53\n",
      "2023-02-13    20.34\n",
      "2023-02-14    18.94\n",
      "Name: VIX, Length: 5822, dtype: float64\n",
      "2000-01-04    0.001406\n",
      "2000-01-05    0.000002\n",
      "2000-01-06    0.000045\n",
      "2000-01-07    0.001577\n",
      "2000-01-10    0.000109\n",
      "                ...   \n",
      "2023-02-08    0.000117\n",
      "2023-02-09    0.000088\n",
      "2023-02-10    0.000004\n",
      "2023-02-13    0.000134\n",
      "2023-02-14    0.000019\n",
      "Name: Parkinson, Length: 5822, dtype: float64\n",
      "2000-01-04    0.000612\n",
      "2000-01-05    0.000326\n",
      "2000-01-06    0.000169\n",
      "2000-01-07    0.000723\n",
      "2000-01-10    0.000111\n",
      "                ...   \n",
      "2023-02-08    0.000070\n",
      "2023-02-09    0.000179\n",
      "2023-02-10    0.000041\n",
      "2023-02-13    0.000110\n",
      "2023-02-14    0.000110\n",
      "Name: Squared returns, Length: 5822, dtype: float64\n",
      "2000-01-04    0.612814\n",
      "2000-01-05    0.585890\n",
      "2000-01-06    0.556108\n",
      "2000-01-07    0.396277\n",
      "2000-01-10    0.395912\n",
      "                ...   \n",
      "2023-02-08    0.323683\n",
      "2023-02-09    0.360279\n",
      "2023-02-10    0.354044\n",
      "2023-02-13    0.347521\n",
      "2023-02-14    0.301328\n",
      "Name: VIX_annualised_variance, Length: 5822, dtype: float64\n",
      "2000-01-04    0.354335\n",
      "2000-01-05    0.000387\n",
      "2000-01-06    0.011383\n",
      "2000-01-07    0.397334\n",
      "2000-01-10    0.027503\n",
      "                ...   \n",
      "2023-02-08    0.029592\n",
      "2023-02-09    0.022179\n",
      "2023-02-10    0.000963\n",
      "2023-02-13    0.033828\n",
      "2023-02-14    0.004880\n",
      "Name: parkinson_annualised_variance, Length: 5822, dtype: float64\n"
     ]
    }
   ],
   "source": [
    "for y in range(0, df.shape[1]):\n",
    "    print(df.iloc[:,y])"
   ]
  },
  {
   "cell_type": "code",
   "execution_count": 49,
   "metadata": {},
   "outputs": [
    {
     "name": "stdout",
     "output_type": "stream",
     "text": [
      "Test DF for: VIX\n",
      "ADF Statistic: -5.7424119598975025\n",
      "p-value: 6.231456068187645e-07\n",
      "Critical Values:\n",
      "('1%', -3.4314758287750426)\n",
      "('5%', -2.862037509861278)\n",
      "('10%', -2.5670348224735093)\n",
      "\n",
      "Test DF for: Parkinson\n",
      "ADF Statistic: -8.185234761798272\n",
      "p-value: 7.932428127730891e-13\n",
      "Critical Values:\n",
      "('1%', -3.4314804999155433)\n",
      "('5%', -2.8620395736712436)\n",
      "('10%', -2.5670359210987224)\n",
      "\n",
      "Test DF for: Squared returns\n",
      "ADF Statistic: -8.214811800864402\n",
      "p-value: 6.668162923020134e-13\n",
      "Critical Values:\n",
      "('1%', -3.4314804999155433)\n",
      "('5%', -2.8620395736712436)\n",
      "('10%', -2.5670359210987224)\n",
      "\n",
      "Test DF for: VIX_annualised_variance\n",
      "ADF Statistic: -6.09162730350881\n",
      "p-value: 1.0331600033026029e-07\n",
      "Critical Values:\n",
      "('1%', -3.4314804999155433)\n",
      "('5%', -2.8620395736712436)\n",
      "('10%', -2.5670359210987224)\n",
      "\n",
      "Test DF for: parkinson_annualised_variance\n",
      "ADF Statistic: -8.18523476181898\n",
      "p-value: 7.932428126766897e-13\n",
      "Critical Values:\n",
      "('1%', -3.4314804999155433)\n",
      "('5%', -2.8620395736712436)\n",
      "('10%', -2.5670359210987224)\n",
      "\n"
     ]
    }
   ],
   "source": [
    "from statsmodels.tsa.stattools import adfuller\n",
    "\n",
    "for y in df.columns:\n",
    "    result = adfuller(df[y])\n",
    "    print(f'Test DF for: {y}')\n",
    "    print('ADF Statistic:',result[0])\n",
    "    print('p-value:',result[1])\n",
    "    print('Critical Values:')\n",
    "    for key, value in result[4].items():\n",
    "        print((key, value))\n",
    "    print(\"\")"
   ]
  },
  {
   "cell_type": "code",
   "execution_count": null,
   "metadata": {},
   "outputs": [],
   "source": []
  },
  {
   "cell_type": "code",
   "execution_count": null,
   "metadata": {},
   "outputs": [],
   "source": []
  },
  {
   "cell_type": "code",
   "execution_count": null,
   "metadata": {},
   "outputs": [],
   "source": []
  },
  {
   "cell_type": "code",
   "execution_count": null,
   "metadata": {},
   "outputs": [],
   "source": []
  },
  {
   "cell_type": "code",
   "execution_count": null,
   "metadata": {},
   "outputs": [],
   "source": []
  },
  {
   "attachments": {},
   "cell_type": "markdown",
   "metadata": {},
   "source": [
    "### **Description of the columns**\n",
    "\n",
    "----\n",
    "\n",
    "**Column B:**   \n",
    "The VIX is a measure of market volatility often referred to as the \"fear index.\" The VIX level represents the level of expected volatility in the S&P 500 index over the next 30 days. The VIX level is calculated based on the prices of options contracts on the S&P 500 index.\n",
    "\n",
    "A higher VIX level indicates greater expected volatility, while a lower VIX level suggests a lower level of expected volatility. Generally, when the stock market experiences significant price fluctuations, the VIX level tends to increase, as investors become more uncertain and demand higher premiums for options contracts to hedge their positions. Conversely, when the market is relatively stable, the VIX level tends to be lower.\n",
    "\n",
    "----\n",
    "\n",
    "**Column C:**\n",
    "The parkison estimates refers to the parkinson law formula (1980) used to estimate the volatility of stock prices.\n",
    "\n",
    "Parkinson's law calculates the daily volatility of a stock by using the high and low prices of the day. The formula is as follows:\n",
    "\n",
    "Parkinson's volatility estimate = (High price - Low price) / sqrt(2 * closing price)\n",
    "\n",
    "Where:\n",
    "\n",
    "- High price: the highest price of the stock during the day\n",
    "- Low price: the lowest price of the stock during the day\n",
    "- Closing price: the closing price of the stock for the day\n",
    "\n",
    "The result of the formula represents the estimated standard deviation of the stock's daily returns. Parkinson's law is considered one of the simplest ways to estimate volatility, although it has some limitations and may not always accurately reflect the true volatility of a stock.\n",
    "\n",
    "----\n",
    "\n",
    "**Columns D:**\n",
    "Squared returns are a measure of the volatility of an asset, such as a stock or a portfolio of stocks. They are obtained by squaring the daily returns of the asset.  \n",
    "\n",
    "Daily returns are the percentage change in the price of an asset from one day to the next. Squaring the daily returns helps to emphasize large changes in the asset's price, as large returns are amplified when they are squared. The resulting squared returns can be summed over a period of time to give an estimate of the asset's volatility over that period.  \n",
    "\n",
    "Squared returns are often used in financial modeling and risk management to estimate the volatility of an asset or portfolio of assets, which is an important measure of risk. Higher volatility means greater uncertainty and potential for larger price swings, while lower volatility suggests a more stable asset with smaller price fluctuations.  \n",
    "\n",
    "\n",
    "---"
   ]
  },
  {
   "cell_type": "markdown",
   "metadata": {},
   "source": [
    "###### Q2"
   ]
  },
  {
   "cell_type": "code",
   "execution_count": 38,
   "metadata": {},
   "outputs": [
    {
     "ename": "NameError",
     "evalue": "name 'volatility_seriesf' is not defined",
     "output_type": "error",
     "traceback": [
      "\u001b[0;31m---------------------------------------------------------------------------\u001b[0m",
      "\u001b[0;31mNameError\u001b[0m                                 Traceback (most recent call last)",
      "\u001b[1;32m/Users/pepegarcia/Documents/GitHub/times-series/sby_jags_projet.ipynb Cell 8\u001b[0m in \u001b[0;36m<cell line: 9>\u001b[0;34m()\u001b[0m\n\u001b[1;32m      <a href='vscode-notebook-cell:/Users/pepegarcia/Documents/GitHub/times-series/sby_jags_projet.ipynb#W5sZmlsZQ%3D%3D?line=7'>8</a>\u001b[0m \u001b[39m# Plot the ACF and PACF for each time series\u001b[39;00m\n\u001b[1;32m      <a href='vscode-notebook-cell:/Users/pepegarcia/Documents/GitHub/times-series/sby_jags_projet.ipynb#W5sZmlsZQ%3D%3D?line=8'>9</a>\u001b[0m \u001b[39mfor\u001b[39;00m col \u001b[39min\u001b[39;00m volatility_series\u001b[39m.\u001b[39mcolumns:\n\u001b[0;32m---> <a href='vscode-notebook-cell:/Users/pepegarcia/Documents/GitHub/times-series/sby_jags_projet.ipynb#W5sZmlsZQ%3D%3D?line=9'>10</a>\u001b[0m     plot_acf(volatility_seriesf[col],lags\u001b[39m=\u001b[39m\u001b[39m300\u001b[39m, title\u001b[39m=\u001b[39mcol\u001b[39m+\u001b[39m\u001b[39m\"\u001b[39m\u001b[39m ACF\u001b[39m\u001b[39m\"\u001b[39m)\n\u001b[1;32m     <a href='vscode-notebook-cell:/Users/pepegarcia/Documents/GitHub/times-series/sby_jags_projet.ipynb#W5sZmlsZQ%3D%3D?line=10'>11</a>\u001b[0m     plot_pacf(volatility_series[col],lags\u001b[39m=\u001b[39m\u001b[39m300\u001b[39m, title\u001b[39m=\u001b[39mcol\u001b[39m+\u001b[39m\u001b[39m\"\u001b[39m\u001b[39m PACF\u001b[39m\u001b[39m\"\u001b[39m)\n",
      "\u001b[0;31mNameError\u001b[0m: name 'volatility_seriesf' is not defined"
     ]
    }
   ],
   "source": [
    "import pandas as pd\n",
    "import statsmodels.api as sm\n",
    "import matplotlib.pyplot as plt\n",
    "\n",
    "from statsmodels.graphics.tsaplots import plot_acf\n",
    "from statsmodels.graphics.tsaplots import plot_pacf\n",
    "\n",
    "# Plot the ACF and PACF for each time series\n",
    "for col in volatility_changes_scaled.columns:\n",
    "    plot_acf(volatility_changes_scaled[col],lags=300, title=col+\" ACF\")\n",
    "    plot_pacf(volatility_changes_scaled[col],lags=300, title=col+\" PACF\")\n",
    "\n",
    "\n",
    "    # Estimate AR models of different orders based on the ACF and PACF\n",
    "    # print(f\"AR model for column {col}:\")\n",
    "    # for order in range(1, 6):\n",
    "    #     # Fit the AR model of the specified order\n",
    "    #     model = sm.tsa.ar_model.AutoReg(volatility_changes_scaled[col], lags=order, trend='c')\n",
    "    #     results = model.fit(maxlag=order, trend='c')\n",
    "        \n",
    "    #     # Print the order, AIC value, and parameter estimates\n",
    "    #     print(f\"Order {order}: AIC={results.aic:.2f}\")\n",
    "    #     print(results.params)\n",
    "    # print()"
   ]
  },
  {
   "cell_type": "code",
   "execution_count": null,
   "metadata": {},
   "outputs": [],
   "source": []
  }
 ],
 "metadata": {
  "kernelspec": {
   "display_name": "base",
   "language": "python",
   "name": "python3"
  },
  "language_info": {
   "codemirror_mode": {
    "name": "ipython",
    "version": 3
   },
   "file_extension": ".py",
   "mimetype": "text/x-python",
   "name": "python",
   "nbconvert_exporter": "python",
   "pygments_lexer": "ipython3",
   "version": "3.9.12"
  },
  "orig_nbformat": 4,
  "vscode": {
   "interpreter": {
    "hash": "1214d3ff7cb32671bc4f4b5c11a9fa4d9fab7aeb0158b43ff0be96645ba3e7af"
   }
  }
 },
 "nbformat": 4,
 "nbformat_minor": 2
}
