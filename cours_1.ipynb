{
 "cells": [
  {
   "attachments": {},
   "cell_type": "markdown",
   "metadata": {},
   "source": [
    "# Time series\n",
    "\n",
    "Florian Ielpo -> lombard investment manager (70 milliards)\n",
    "f.ielpo@lombardodier.com\n",
    "Recherche macro, head of macro, côté quant > discrétionnaire\n",
    "\n",
    "“discrétionnaire”:\n",
    "- Hedge fund\n",
    "- Equities = sustainable\n",
    "- Fixed income (obligataire) = govervenemntale, obligations emergencies (chinoises); de cela se distingue les “fallen angel”, il voit sa note bbb- à bb+ —> discount : segment très exploitable\n",
    "“Systématique”:\n",
    "- MultiAssets = combinaisons en portefeuilles, quantitative “systématique: time series” (10 milliards - 10 personnes)\n",
    "\n",
    "Projet Jupiter notebook transformé en PDF —> 20h de travail\n",
    "\n",
    "1. Retour sur le modèle linéaire\n",
    "2. ARIMA et leur utilisation en Finance\n",
    "      - Modalité -> Asset princing\n",
    "      - Prévision -> Asset princing \n",
    "3. Modèle VAR (modèle autorégréssif vectoriel multidimensionnel) - simulation de l'impact d'un choc\n",
    "      - Cointégation = liaison entre tendance -> 2001\n",
    "      - Markov Switching\n",
    "      - Économétrie non paramétrique -> XIXe"
   ]
  },
  {
   "attachments": {},
   "cell_type": "markdown",
   "metadata": {},
   "source": [
    "Class 1: Linear Univariate Models\n",
    "\n",
    "- Il existe une multitude de modèles qui nous ont été présentés -> mais il nous ont jamais proposé de remplacer ces paramètres par un chiffre. Exemple: CAPM; Taylor rule; etc. \n",
    "\n",
    "Si dans un modèle l'un des paramètres est l'esperance d'une variable: \n",
    "\n",
    "- paramètre: E[x]; -> modèle de finance\n",
    "\n",
    "- estimateur de mu: la moyenne 1/n*sum(xi) -> convergence vers E[x] si x iid; -> stratégie d'estimation\n",
    "\n",
    "- time series -> estimation (x1...xn) -> stratégie d'estimation\n",
    "\n",
    "\n",
    "Différence entre estimation et calibration:\n",
    "\n",
    "**Estimation** = estimation des paramètres d'un modèles sous P (sous P -> distribution historique: ri = rf + B(rm-rf)+Ei comportement historique de l'action i) - économétrie\n",
    "\n",
    "**Calibration** = sigma dans Black Scholes equi fit les prix des options - stimation des paramètres d'une modèle sous Q (asset pricing: prix à la date t d'un actif donné   \n",
    "Pt = E^Q[sum(CFt+i/(1+r)^i)]) ==> Calibration \n",
    "- où r est les taux d'actualisation\n",
    "- Q sous probabilité risque neutre\n",
    "- Q equivalent à P si E^Q[ri] = rf -> si plus d'aversion au risque, plus de compensation donc plus de prime sans risque. Absence de probabilité d'arbitrage\n",
    "\n",
    "\n",
    "Important différence entre P et Q, entre estimateur, estimation et paramètre\n",
    "\n",
    "Expliquer le maximum de vraissamblences\n",
    "Espérance de loi de poisson de paramètre lambda et la variance\n",
    "\n"
   ]
  },
  {
   "cell_type": "markdown",
   "metadata": {},
   "source": []
  }
 ],
 "metadata": {
  "language_info": {
   "name": "python"
  },
  "orig_nbformat": 4
 },
 "nbformat": 4,
 "nbformat_minor": 2
}
